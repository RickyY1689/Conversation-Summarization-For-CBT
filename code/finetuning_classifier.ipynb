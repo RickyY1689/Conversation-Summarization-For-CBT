{
 "cells": [
  {
   "cell_type": "code",
   "execution_count": 92,
   "id": "68dd94e7",
   "metadata": {},
   "outputs": [],
   "source": [
    "import pandas as pd\n",
    "import os\n",
    "import openai"
   ]
  },
  {
   "cell_type": "code",
   "execution_count": 93,
   "id": "8ab5ec5a",
   "metadata": {},
   "outputs": [],
   "source": [
    "input_path = \"summary_data.csv\"\n",
    "dir_path = os.path.abspath('')\n",
    "data_path = f\"{dir_path}/../data/{input_path}\"\n",
    "data = pd.read_csv(data_path, header=None)"
   ]
  },
  {
   "cell_type": "code",
   "execution_count": 94,
   "id": "aa7367fc",
   "metadata": {},
   "outputs": [
    {
     "data": {
      "text/html": [
       "<div>\n",
       "<style scoped>\n",
       "    .dataframe tbody tr th:only-of-type {\n",
       "        vertical-align: middle;\n",
       "    }\n",
       "\n",
       "    .dataframe tbody tr th {\n",
       "        vertical-align: top;\n",
       "    }\n",
       "\n",
       "    .dataframe thead th {\n",
       "        text-align: right;\n",
       "    }\n",
       "</style>\n",
       "<table border=\"1\" class=\"dataframe\">\n",
       "  <thead>\n",
       "    <tr style=\"text-align: right;\">\n",
       "      <th></th>\n",
       "      <th>0</th>\n",
       "      <th>1</th>\n",
       "      <th>2</th>\n",
       "    </tr>\n",
       "  </thead>\n",
       "  <tbody>\n",
       "    <tr>\n",
       "      <th>0</th>\n",
       "      <td>0</td>\n",
       "      <td>You enjoy the way smoking calms you, but disli...</td>\n",
       "      <td>1</td>\n",
       "    </tr>\n",
       "    <tr>\n",
       "      <th>1</th>\n",
       "      <td>1</td>\n",
       "      <td>You enjoy the feeling of calm and relaxation t...</td>\n",
       "      <td>1</td>\n",
       "    </tr>\n",
       "    <tr>\n",
       "      <th>2</th>\n",
       "      <td>2</td>\n",
       "      <td>You enjoy the relief that smoking provides you...</td>\n",
       "      <td>1</td>\n",
       "    </tr>\n",
       "    <tr>\n",
       "      <th>3</th>\n",
       "      <td>3</td>\n",
       "      <td>You enjoy the smell of cigarettes but dislike ...</td>\n",
       "      <td>1</td>\n",
       "    </tr>\n",
       "    <tr>\n",
       "      <th>4</th>\n",
       "      <td>4</td>\n",
       "      <td>You enjoy the taste of tobacco and are looking...</td>\n",
       "      <td>1</td>\n",
       "    </tr>\n",
       "  </tbody>\n",
       "</table>\n",
       "</div>"
      ],
      "text/plain": [
       "   0                                                  1  2\n",
       "0  0  You enjoy the way smoking calms you, but disli...  1\n",
       "1  1  You enjoy the feeling of calm and relaxation t...  1\n",
       "2  2  You enjoy the relief that smoking provides you...  1\n",
       "3  3  You enjoy the smell of cigarettes but dislike ...  1\n",
       "4  4  You enjoy the taste of tobacco and are looking...  1"
      ]
     },
     "execution_count": 94,
     "metadata": {},
     "output_type": "execute_result"
    }
   ],
   "source": [
    "filtered_data = data.drop([3], axis=1)\n",
    "filtered_data.head()"
   ]
  },
  {
   "cell_type": "code",
   "execution_count": 95,
   "id": "f64da1b2",
   "metadata": {},
   "outputs": [
    {
     "data": {
      "text/html": [
       "<div>\n",
       "<style scoped>\n",
       "    .dataframe tbody tr th:only-of-type {\n",
       "        vertical-align: middle;\n",
       "    }\n",
       "\n",
       "    .dataframe tbody tr th {\n",
       "        vertical-align: top;\n",
       "    }\n",
       "\n",
       "    .dataframe thead th {\n",
       "        text-align: right;\n",
       "    }\n",
       "</style>\n",
       "<table border=\"1\" class=\"dataframe\">\n",
       "  <thead>\n",
       "    <tr style=\"text-align: right;\">\n",
       "      <th></th>\n",
       "      <th>0</th>\n",
       "      <th>prompt</th>\n",
       "      <th>completion</th>\n",
       "    </tr>\n",
       "  </thead>\n",
       "  <tbody>\n",
       "    <tr>\n",
       "      <th>0</th>\n",
       "      <td>0</td>\n",
       "      <td>You enjoy the way smoking calms you, but disli...</td>\n",
       "      <td>1</td>\n",
       "    </tr>\n",
       "    <tr>\n",
       "      <th>1</th>\n",
       "      <td>1</td>\n",
       "      <td>You enjoy the feeling of calm and relaxation t...</td>\n",
       "      <td>1</td>\n",
       "    </tr>\n",
       "    <tr>\n",
       "      <th>2</th>\n",
       "      <td>2</td>\n",
       "      <td>You enjoy the relief that smoking provides you...</td>\n",
       "      <td>1</td>\n",
       "    </tr>\n",
       "    <tr>\n",
       "      <th>3</th>\n",
       "      <td>3</td>\n",
       "      <td>You enjoy the smell of cigarettes but dislike ...</td>\n",
       "      <td>1</td>\n",
       "    </tr>\n",
       "    <tr>\n",
       "      <th>4</th>\n",
       "      <td>4</td>\n",
       "      <td>You enjoy the taste of tobacco and are looking...</td>\n",
       "      <td>1</td>\n",
       "    </tr>\n",
       "  </tbody>\n",
       "</table>\n",
       "</div>"
      ],
      "text/plain": [
       "   0                                             prompt  completion\n",
       "0  0  You enjoy the way smoking calms you, but disli...           1\n",
       "1  1  You enjoy the feeling of calm and relaxation t...           1\n",
       "2  2  You enjoy the relief that smoking provides you...           1\n",
       "3  3  You enjoy the smell of cigarettes but dislike ...           1\n",
       "4  4  You enjoy the taste of tobacco and are looking...           1"
      ]
     },
     "execution_count": 95,
     "metadata": {},
     "output_type": "execute_result"
    }
   ],
   "source": [
    "# completion of 0 means the summary was poor, 1 means it satisfied the requirements\n",
    "\n",
    "filtered_data = filtered_data.rename(columns={1: \"prompt\", 2: \"completion\"})\n",
    "filtered_data.head()"
   ]
  },
  {
   "cell_type": "code",
   "execution_count": 96,
   "id": "17b32df1",
   "metadata": {},
   "outputs": [
    {
     "data": {
      "text/html": [
       "<div>\n",
       "<style scoped>\n",
       "    .dataframe tbody tr th:only-of-type {\n",
       "        vertical-align: middle;\n",
       "    }\n",
       "\n",
       "    .dataframe tbody tr th {\n",
       "        vertical-align: top;\n",
       "    }\n",
       "\n",
       "    .dataframe thead th {\n",
       "        text-align: right;\n",
       "    }\n",
       "</style>\n",
       "<table border=\"1\" class=\"dataframe\">\n",
       "  <thead>\n",
       "    <tr style=\"text-align: right;\">\n",
       "      <th></th>\n",
       "      <th>0</th>\n",
       "      <th>prompt</th>\n",
       "    </tr>\n",
       "    <tr>\n",
       "      <th>completion</th>\n",
       "      <th></th>\n",
       "      <th></th>\n",
       "    </tr>\n",
       "  </thead>\n",
       "  <tbody>\n",
       "    <tr>\n",
       "      <th>0</th>\n",
       "      <td>46</td>\n",
       "      <td>46</td>\n",
       "    </tr>\n",
       "    <tr>\n",
       "      <th>1</th>\n",
       "      <td>54</td>\n",
       "      <td>54</td>\n",
       "    </tr>\n",
       "  </tbody>\n",
       "</table>\n",
       "</div>"
      ],
      "text/plain": [
       "             0  prompt\n",
       "completion            \n",
       "0           46      46\n",
       "1           54      54"
      ]
     },
     "execution_count": 96,
     "metadata": {},
     "output_type": "execute_result"
    }
   ],
   "source": [
    "#apparently you want 100 samples of each class when finetuning\n",
    "\n",
    "filtered_data.groupby(\"completion\").count()"
   ]
  },
  {
   "cell_type": "code",
   "execution_count": 105,
   "id": "e5b317f7",
   "metadata": {},
   "outputs": [],
   "source": [
    "filtered_data = filtered_data.astype({\"completion\": str})"
   ]
  },
  {
   "cell_type": "code",
   "execution_count": 106,
   "id": "bd604470",
   "metadata": {},
   "outputs": [],
   "source": [
    "train_data = filtered_data.groupby(\"completion\").sample(frac=0.8, random_state=1).drop([0], axis=1)\n",
    "val_data = filtered_data.drop(train_data.index).drop([0], axis=1)"
   ]
  },
  {
   "cell_type": "code",
   "execution_count": 107,
   "id": "d3043313",
   "metadata": {},
   "outputs": [
    {
     "data": {
      "text/plain": [
       "(80, 2)"
      ]
     },
     "execution_count": 107,
     "metadata": {},
     "output_type": "execute_result"
    }
   ],
   "source": [
    "train_data.shape"
   ]
  },
  {
   "cell_type": "code",
   "execution_count": 108,
   "id": "df5ac84e",
   "metadata": {},
   "outputs": [
    {
     "data": {
      "text/plain": [
       "(20, 2)"
      ]
     },
     "execution_count": 108,
     "metadata": {},
     "output_type": "execute_result"
    }
   ],
   "source": [
    "val_data.shape"
   ]
  },
  {
   "cell_type": "code",
   "execution_count": 109,
   "id": "f2f925c8",
   "metadata": {},
   "outputs": [],
   "source": [
    "train_data_jsonl = train_data.to_json(orient='records', lines=True)\n",
    "val_data_jsonl = val_data.to_json(orient='records', lines=True)"
   ]
  },
  {
   "cell_type": "code",
   "execution_count": 110,
   "id": "90479797",
   "metadata": {},
   "outputs": [],
   "source": [
    "with open(\"train_data.jsonl\", \"w\") as outfile:\n",
    "    outfile.write(train_data_jsonl)\n",
    "with open(\"val_data.jsonl\", \"w\") as outfile:\n",
    "    outfile.write(val_data_jsonl)"
   ]
  },
  {
   "cell_type": "code",
   "execution_count": 111,
   "id": "5afe23eb",
   "metadata": {},
   "outputs": [],
   "source": [
    "with open(f'{dir_path}/../openai_key.txt') as f:\n",
    "        openai.api_key = f.read()    "
   ]
  },
  {
   "cell_type": "code",
   "execution_count": 112,
   "id": "d0ad134a",
   "metadata": {},
   "outputs": [
    {
     "data": {
      "text/plain": [
       "<File file id=file-kSYGcMWB8v5cvRujjoxYf4x3 at 0x7fe599d079f0> JSON: {\n",
       "  \"bytes\": 29731,\n",
       "  \"created_at\": 1674343760,\n",
       "  \"filename\": \"file\",\n",
       "  \"id\": \"file-kSYGcMWB8v5cvRujjoxYf4x3\",\n",
       "  \"object\": \"file\",\n",
       "  \"purpose\": \"fine-tune\",\n",
       "  \"status\": \"uploaded\",\n",
       "  \"status_details\": null\n",
       "}"
      ]
     },
     "execution_count": 112,
     "metadata": {},
     "output_type": "execute_result"
    }
   ],
   "source": [
    "# openai.File.create(file=open(\"train_data.jsonl\", \"rb\"),purpose='fine-tune')"
   ]
  },
  {
   "cell_type": "code",
   "execution_count": 113,
   "id": "e00b1858",
   "metadata": {},
   "outputs": [
    {
     "data": {
      "text/plain": [
       "<File file id=file-cI15giraCnViV40cMJVIwbP0 at 0x7fe58ec69d60> JSON: {\n",
       "  \"bytes\": 7425,\n",
       "  \"created_at\": 1674343768,\n",
       "  \"filename\": \"file\",\n",
       "  \"id\": \"file-cI15giraCnViV40cMJVIwbP0\",\n",
       "  \"object\": \"file\",\n",
       "  \"purpose\": \"fine-tune\",\n",
       "  \"status\": \"uploaded\",\n",
       "  \"status_details\": null\n",
       "}"
      ]
     },
     "execution_count": 113,
     "metadata": {},
     "output_type": "execute_result"
    }
   ],
   "source": [
    "# openai.File.create(file=open(\"val_data.jsonl\", \"rb\"),purpose='fine-tune')"
   ]
  },
  {
   "cell_type": "code",
   "execution_count": 116,
   "id": "3dbbba11",
   "metadata": {},
   "outputs": [
    {
     "data": {
      "text/plain": [
       "<FineTune fine-tune id=ft-STBuWrHnWV8iVrkSszXOjOH0 at 0x7fe58ecff860> JSON: {\n",
       "  \"created_at\": 1674343916,\n",
       "  \"events\": [\n",
       "    {\n",
       "      \"created_at\": 1674343916,\n",
       "      \"level\": \"info\",\n",
       "      \"message\": \"Created fine-tune: ft-STBuWrHnWV8iVrkSszXOjOH0\",\n",
       "      \"object\": \"fine-tune-event\"\n",
       "    }\n",
       "  ],\n",
       "  \"fine_tuned_model\": null,\n",
       "  \"hyperparams\": {\n",
       "    \"batch_size\": null,\n",
       "    \"classification_positive_class\": \"1\",\n",
       "    \"compute_classification_metrics\": true,\n",
       "    \"learning_rate_multiplier\": null,\n",
       "    \"n_epochs\": 4,\n",
       "    \"prompt_loss_weight\": 0.01\n",
       "  },\n",
       "  \"id\": \"ft-STBuWrHnWV8iVrkSszXOjOH0\",\n",
       "  \"model\": \"davinci\",\n",
       "  \"object\": \"fine-tune\",\n",
       "  \"organization_id\": \"org-dqXnzwpBRx9JeWkSdgAJdRLI\",\n",
       "  \"result_files\": [],\n",
       "  \"status\": \"pending\",\n",
       "  \"training_files\": [\n",
       "    {\n",
       "      \"bytes\": 29731,\n",
       "      \"created_at\": 1674343760,\n",
       "      \"filename\": \"file\",\n",
       "      \"id\": \"file-kSYGcMWB8v5cvRujjoxYf4x3\",\n",
       "      \"object\": \"file\",\n",
       "      \"purpose\": \"fine-tune\",\n",
       "      \"status\": \"processed\",\n",
       "      \"status_details\": null\n",
       "    }\n",
       "  ],\n",
       "  \"updated_at\": 1674343916,\n",
       "  \"validation_files\": [\n",
       "    {\n",
       "      \"bytes\": 7425,\n",
       "      \"created_at\": 1674343768,\n",
       "      \"filename\": \"file\",\n",
       "      \"id\": \"file-cI15giraCnViV40cMJVIwbP0\",\n",
       "      \"object\": \"file\",\n",
       "      \"purpose\": \"fine-tune\",\n",
       "      \"status\": \"processed\",\n",
       "      \"status_details\": null\n",
       "    }\n",
       "  ]\n",
       "}"
      ]
     },
     "execution_count": 116,
     "metadata": {},
     "output_type": "execute_result"
    }
   ],
   "source": [
    "# openai.FineTune.create(training_file=\"file-kSYGcMWB8v5cvRujjoxYf4x3\", \n",
    "#                        validation_file=\"file-cI15giraCnViV40cMJVIwbP0\", \n",
    "#                        model=\"davinci\", compute_classification_metrics=True,\n",
    "#                        classification_positive_class=\"1\", suffix=\"summary-classifier\")"
   ]
  },
  {
   "cell_type": "code",
   "execution_count": 120,
   "id": "d3f586b7",
   "metadata": {},
   "outputs": [
    {
     "data": {
      "text/plain": [
       "<OpenAIObject list at 0x7fe58ed3ec20> JSON: {\n",
       "  \"data\": [\n",
       "    {\n",
       "      \"created_at\": 1674343916,\n",
       "      \"fine_tuned_model\": \"davinci:ft-personal:summary-classifier-2023-01-22-02-04-52\",\n",
       "      \"hyperparams\": {\n",
       "        \"batch_size\": 1,\n",
       "        \"classification_positive_class\": \"1\",\n",
       "        \"compute_classification_metrics\": true,\n",
       "        \"learning_rate_multiplier\": 0.1,\n",
       "        \"n_epochs\": 4,\n",
       "        \"prompt_loss_weight\": 0.01\n",
       "      },\n",
       "      \"id\": \"ft-STBuWrHnWV8iVrkSszXOjOH0\",\n",
       "      \"model\": \"davinci\",\n",
       "      \"object\": \"fine-tune\",\n",
       "      \"organization_id\": \"org-dqXnzwpBRx9JeWkSdgAJdRLI\",\n",
       "      \"result_files\": [\n",
       "        {\n",
       "          \"bytes\": 17989,\n",
       "          \"created_at\": 1674353096,\n",
       "          \"filename\": \"compiled_results.csv\",\n",
       "          \"id\": \"file-nicqMJ2znGBVzmUUjkIZFB3f\",\n",
       "          \"object\": \"file\",\n",
       "          \"purpose\": \"fine-tune-results\",\n",
       "          \"status\": \"processed\",\n",
       "          \"status_details\": null\n",
       "        }\n",
       "      ],\n",
       "      \"status\": \"succeeded\",\n",
       "      \"training_files\": [\n",
       "        {\n",
       "          \"bytes\": 29731,\n",
       "          \"created_at\": 1674343760,\n",
       "          \"filename\": \"file\",\n",
       "          \"id\": \"file-kSYGcMWB8v5cvRujjoxYf4x3\",\n",
       "          \"object\": \"file\",\n",
       "          \"purpose\": \"fine-tune\",\n",
       "          \"status\": \"processed\",\n",
       "          \"status_details\": null\n",
       "        }\n",
       "      ],\n",
       "      \"updated_at\": 1674353100,\n",
       "      \"validation_files\": [\n",
       "        {\n",
       "          \"bytes\": 7425,\n",
       "          \"created_at\": 1674343768,\n",
       "          \"filename\": \"file\",\n",
       "          \"id\": \"file-cI15giraCnViV40cMJVIwbP0\",\n",
       "          \"object\": \"file\",\n",
       "          \"purpose\": \"fine-tune\",\n",
       "          \"status\": \"processed\",\n",
       "          \"status_details\": null\n",
       "        }\n",
       "      ]\n",
       "    }\n",
       "  ],\n",
       "  \"object\": \"list\"\n",
       "}"
      ]
     },
     "execution_count": 120,
     "metadata": {},
     "output_type": "execute_result"
    }
   ],
   "source": [
    "openai.FineTune.list()"
   ]
  },
  {
   "cell_type": "code",
   "execution_count": 126,
   "id": "ef7358a3",
   "metadata": {},
   "outputs": [],
   "source": [
    "res_txt = openai.File.download(id=\"file-nicqMJ2znGBVzmUUjkIZFB3f\").decode(\"utf-8\") "
   ]
  },
  {
   "cell_type": "code",
   "execution_count": 127,
   "id": "6f6844e5",
   "metadata": {},
   "outputs": [],
   "source": [
    "with open(\"finetuning_results.txt\", \"w\") as text_file:\n",
    "    text_file.write(res_txt)"
   ]
  },
  {
   "cell_type": "code",
   "execution_count": 130,
   "id": "2368d84f",
   "metadata": {},
   "outputs": [
    {
     "data": {
      "text/plain": [
       "'1'"
      ]
     },
     "execution_count": 130,
     "metadata": {},
     "output_type": "execute_result"
    }
   ],
   "source": [
    "ft_model = \"davinci:ft-personal:summary-classifier-2023-01-22-02-04-52\"\n",
    "data = \"You want to reduce the number of times you smoke a day, you say you plan to do this by being more motivated.\"\n",
    "res = openai.Completion.create(model=ft_model, prompt=data, max_tokens=1)\n",
    "res['choices'][0]['text']"
   ]
  },
  {
   "cell_type": "markdown",
   "id": "c8f222e8",
   "metadata": {},
   "source": [
    "## Notes from meeting\n",
    "\n",
    "Redo the finetuning process with more data, try doubling the dataset. We could try bootstrapping the current classifier to label some of the data to save on time\n",
    "Bootstrapping - "
   ]
  },
  {
   "cell_type": "code",
   "execution_count": 1,
   "id": "48219f37",
   "metadata": {},
   "outputs": [
    {
     "ename": "SyntaxError",
     "evalue": "invalid syntax (2838068790.py, line 1)",
     "output_type": "error",
     "traceback": [
      "\u001b[0;36m  Input \u001b[0;32mIn [1]\u001b[0;36m\u001b[0m\n\u001b[0;31m    ADD PAGE NUMBERS\u001b[0m\n\u001b[0m        ^\u001b[0m\n\u001b[0;31mSyntaxError\u001b[0m\u001b[0;31m:\u001b[0m invalid syntax\n"
     ]
    }
   ],
   "source": [
    "ADD PAGE NUMBERS"
   ]
  },
  {
   "cell_type": "code",
   "execution_count": null,
   "id": "e2e9a070",
   "metadata": {},
   "outputs": [],
   "source": []
  }
 ],
 "metadata": {
  "kernelspec": {
   "display_name": "thesis",
   "language": "python",
   "name": "thesis"
  },
  "language_info": {
   "codemirror_mode": {
    "name": "ipython",
    "version": 3
   },
   "file_extension": ".py",
   "mimetype": "text/x-python",
   "name": "python",
   "nbconvert_exporter": "python",
   "pygments_lexer": "ipython3",
   "version": "3.8.13"
  }
 },
 "nbformat": 4,
 "nbformat_minor": 5
}
